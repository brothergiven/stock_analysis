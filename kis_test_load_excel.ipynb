{
 "cells": [
  {
   "cell_type": "markdown",
   "id": "cea0c0eb",
   "metadata": {},
   "source": [
    "### 일간 데이터 EXCEL 읽어와 저장"
   ]
  },
  {
   "cell_type": "code",
   "execution_count": 1,
   "id": "a14a7d7f",
   "metadata": {},
   "outputs": [],
   "source": [
    "import pandas as pd\n",
    "import os"
   ]
  },
  {
   "cell_type": "code",
   "execution_count": 5,
   "id": "8124dff9",
   "metadata": {},
   "outputs": [
    {
     "data": {
      "text/plain": [
       "['000660.xlsx',\n",
       " '005380.xlsx',\n",
       " '005490.xlsx',\n",
       " '005930.xlsx',\n",
       " '035420.xlsx',\n",
       " '035720.xlsx',\n",
       " '055550.xlsx',\n",
       " '068270.xlsx',\n",
       " '207940.xlsx',\n",
       " '373220.xlsx']"
      ]
     },
     "execution_count": 5,
     "metadata": {},
     "output_type": "execute_result"
    }
   ],
   "source": [
    "dir = './files/'\n",
    "os.listdir(dir)"
   ]
  },
  {
   "cell_type": "code",
   "execution_count": 13,
   "id": "fb7a17c6",
   "metadata": {},
   "outputs": [
    {
     "name": "stdout",
     "output_type": "stream",
     "text": [
      "             시간      시가      고가      저가      종가         5        10        20  \\\n",
      "0    2025-04-17  172100  175400  171800  175000  178120.0  175530.0  189540.0   \n",
      "1    2025-04-16  176500  177500  173500  174000  179760.0  177490.0  191290.0   \n",
      "2    2025-04-15  180200  182400  179700  180600  177960.0  179880.0  192865.0   \n",
      "3    2025-04-14  182900  184400  178000  180200  175740.0  181520.0  193985.0   \n",
      "4    2025-04-11  177800  181800  176100  180800  172660.0  182570.0  195275.0   \n",
      "...         ...     ...     ...     ...     ...       ...       ...       ...   \n",
      "7068 1997-01-06  182290  182290  182290  182290  193227.6       NaN       NaN   \n",
      "7069 1997-01-04  182290  182290  182290  182290       NaN       NaN       NaN   \n",
      "7070 1997-01-03  182290  183201  182290  182290       NaN       NaN       NaN   \n",
      "7071 1996-12-27  209634  209634  209634  209634       NaN       NaN       NaN   \n",
      "7072 1996-12-26  209634  209634  209634  209634       NaN       NaN       NaN   \n",
      "\n",
      "             60        120      거래량        5.1       10.1        20.1  \\\n",
      "0     198836.67  190401.67  2989493  2905661.0  5242720.6  4143651.65   \n",
      "1     199420.00  190534.17  2933428  3875159.2  5361546.0  4133154.85   \n",
      "2     199823.33  190645.00  1915455  4895609.4  5344625.5  4141583.45   \n",
      "3     200063.33  190773.33  3466194  5505552.6  5384805.3  4180620.25   \n",
      "4     200298.33  190844.17  3223735  6388123.8  5494357.4  4136544.50   \n",
      "...         ...        ...      ...        ...        ...         ...   \n",
      "7068        NaN        NaN    47856    18863.2        NaN         NaN   \n",
      "7069        NaN        NaN    30477        NaN        NaN         NaN   \n",
      "7070        NaN        NaN    15983        NaN        NaN         NaN   \n",
      "7071        NaN        NaN        0        NaN        NaN         NaN   \n",
      "7072        NaN        NaN        0        NaN        NaN         NaN   \n",
      "\n",
      "            60.1       120.1  \n",
      "0     3957818.20  4000532.57  \n",
      "1     4008487.40  3995857.99  \n",
      "2     4019937.93  4017328.55  \n",
      "3     4038332.83  4034674.31  \n",
      "4     4060017.83  4045683.67  \n",
      "...          ...         ...  \n",
      "7068         NaN         NaN  \n",
      "7069         NaN         NaN  \n",
      "7070         NaN         NaN  \n",
      "7071         NaN         NaN  \n",
      "7072         NaN         NaN  \n",
      "\n",
      "[7073 rows x 16 columns]\n"
     ]
    }
   ],
   "source": [
    "for filename in os.listdir(dir)[:1]:\n",
    "    if not filename.endswith('.xlsx'):\n",
    "        continue\n",
    "    \n",
    "    filepath = os.path.join(dir, filename)\n",
    "    stock_code = filename.replace('.xlsx', '')  # 파일명에서 종목 추출\n",
    "    df = pd.read_excel(filepath)\n",
    "    print(df)"
   ]
  },
  {
   "cell_type": "code",
   "execution_count": null,
   "id": "68d116ab",
   "metadata": {},
   "outputs": [
    {
     "name": "stdout",
     "output_type": "stream",
     "text": [
      "Collecting openpyxl\n",
      "  Downloading openpyxl-3.1.5-py2.py3-none-any.whl (250 kB)\n",
      "Collecting et-xmlfile\n",
      "  Downloading et_xmlfile-2.0.0-py3-none-any.whl (18 kB)\n",
      "Installing collected packages: et-xmlfile, openpyxl\n",
      "Successfully installed et-xmlfile-2.0.0 openpyxl-3.1.5\n",
      "Note: you may need to restart the kernel to use updated packages.\n"
     ]
    },
    {
     "name": "stderr",
     "output_type": "stream",
     "text": [
      "WARNING: You are using pip version 21.1.1; however, version 25.0.1 is available.\n",
      "You should consider upgrading via the 'c:\\Users\\JUN\\AppData\\Local\\Programs\\Python\\Python38\\python.exe -m pip install --upgrade pip' command.\n"
     ]
    }
   ],
   "source": []
  }
 ],
 "metadata": {
  "kernelspec": {
   "display_name": "Python 3",
   "language": "python",
   "name": "python3"
  },
  "language_info": {
   "codemirror_mode": {
    "name": "ipython",
    "version": 3
   },
   "file_extension": ".py",
   "mimetype": "text/x-python",
   "name": "python",
   "nbconvert_exporter": "python",
   "pygments_lexer": "ipython3",
   "version": "3.8.10"
  }
 },
 "nbformat": 4,
 "nbformat_minor": 5
}
