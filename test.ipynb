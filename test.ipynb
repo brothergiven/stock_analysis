{
 "cells": [
  {
   "cell_type": "code",
   "execution_count": 1,
   "id": "70d2012e",
   "metadata": {},
   "outputs": [],
   "source": [
    "from pykrx import stock"
   ]
  },
  {
   "cell_type": "code",
   "execution_count": 33,
   "id": "06c40e14",
   "metadata": {},
   "outputs": [],
   "source": [
    "def fetch_market_data_range(start_date: str, end_date: str):\n",
    "    # pykrx의 \"모든 종목\" 일자별 조회 API는 일괄 반환함\n",
    "    \n",
    "    price_df = stock.get_market_ohlcv_by_date(fromdate=start_date, todate=end_date, ticker=\"005930\", adjusted=True)\n",
    "    fund_df = stock.get_market_fundamental_by_date(fromdate=start_date, todate=end_date, ticker=\"005930\")\n",
    "    cap_df = stock.get_market_cap_by_date(fromdate=start_date, todate=end_date, ticker=\"005930\")\n",
    "    foreign_df = stock.get_exhaustion_rates_of_foreign_investment_by_date(fromdate=start_date, todate=end_date, ticker=\"005930\")\n",
    "\n",
    "        # 인덱스 리셋 → merge를 위해 date, code 컬럼으로 만들기\n",
    "    def fix_index(df, value_cols):\n",
    "        df = df.copy()\n",
    "        df.reset_index(inplace=True)\n",
    "        df = df.rename(columns={\"날짜\": \"date\"})\n",
    "        df = df[value_cols + ['date']]\n",
    "        return df\n",
    "    \n",
    "    print(price_df.head(2))\n",
    "    print(fund_df.head(2))\n",
    "    print(cap_df.head(2))\n",
    "    print(foreign_df.head(2))\n",
    "\n",
    "    price_df = fix_index(price_df, ['시가', '고가', '저가', '종가', '거래량', '등락률'])\n",
    "    fund_df = fix_index(fund_df, ['BPS', 'PER', 'PBR', 'EPS', 'DIV', 'DPS'])\n",
    "    cap_df = fix_index(cap_df, ['시가총액', '거래대금', '상장주식수'])  # 거래량은 중복되므로 제거 가능\n",
    "    foreign_df = fix_index(foreign_df, ['보유수량', '지분율', '한도수량', '한도소진률'])\n",
    "\n",
    "    merged = price_df.merge(fund_df, on=['date'], how='left')\\\n",
    "                     .merge(cap_df, on=['date'], how='left')\\\n",
    "                     .merge(foreign_df, on=['date'], how='left')\n",
    "    print(merged.head(2))"
   ]
  },
  {
   "cell_type": "code",
   "execution_count": 34,
   "id": "101ed3c4",
   "metadata": {},
   "outputs": [
    {
     "name": "stdout",
     "output_type": "stream",
     "text": [
      "               시가     고가     저가     종가       거래량       등락률\n",
      "날짜                                                        \n",
      "2023-01-02  55500  56100  55200  55500  10031448  0.361664\n",
      "2023-01-03  55400  56000  54500  55400  13547030 -0.180180\n",
      "              BPS   PER   PBR   EPS   DIV   DPS\n",
      "날짜                                             \n",
      "2023-01-02  43611  9.61  1.27  5777  2.60  1444\n",
      "2023-01-03  43611  9.59  1.27  5777  2.61  1444\n",
      "                       시가총액       거래량          거래대금       상장주식수\n",
      "날짜                                                             \n",
      "2023-01-02  331322931525000  10031448  558433491400  5969782550\n",
      "2023-01-03  330725953270000  13547030  747898872200  5969782550\n",
      "                 상장주식수        보유수량       지분율        한도수량     한도소진률\n",
      "날짜                                                                \n",
      "2023-01-02  5969782550  2965339762  49.65625  5969782550  49.65625\n",
      "2023-01-03  5969782550  2964905145  49.65625  5969782550  49.65625\n",
      "      시가     고가     저가     종가  ...        보유수량       지분율        한도수량     한도소진률\n",
      "0  55500  56100  55200  55500  ...  2965339762  49.65625  5969782550  49.65625\n",
      "1  55400  56000  54500  55400  ...  2964905145  49.65625  5969782550  49.65625\n",
      "\n",
      "[2 rows x 20 columns]\n"
     ]
    }
   ],
   "source": [
    "fetch_market_data_range(\"20230101\", \"20240101\")"
   ]
  }
 ],
 "metadata": {
  "kernelspec": {
   "display_name": "Python 3",
   "language": "python",
   "name": "python3"
  },
  "language_info": {
   "codemirror_mode": {
    "name": "ipython",
    "version": 3
   },
   "file_extension": ".py",
   "mimetype": "text/x-python",
   "name": "python",
   "nbconvert_exporter": "python",
   "pygments_lexer": "ipython3",
   "version": "3.8.10"
  }
 },
 "nbformat": 4,
 "nbformat_minor": 5
}
