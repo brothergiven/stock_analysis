{
 "cells": [
  {
   "cell_type": "code",
   "execution_count": 56,
   "id": "a354b8f7",
   "metadata": {},
   "outputs": [],
   "source": [
    "# AUTH\n",
    "import requests\n",
    "import json\n",
    "import pandas as pd\n",
    "from datetime import datetime"
   ]
  },
  {
   "cell_type": "code",
   "execution_count": 44,
   "id": "cb70025c",
   "metadata": {},
   "outputs": [],
   "source": [
    "#홈페이지에서 API서비스 신청시 받은 Appkey, Appsecret 값 설정\n",
    "#모의투자\n",
    "#my_app: \"앱키\"\n",
    "#my_sec: \"앱시크리트\"\n",
    "#실전투자 \n",
    "my_app= \"PSglwhdVVXUZyqE39FS702s8KcaiDtulMRyS\"\n",
    "my_sec= \"e6VRuxXOp4EAwee74L1cA3ktcLTlaNCyTOaiAPM+OCJnmnkBE8n0QS4+4ys21PU5yRs/QOXWlASzkj8IgU4s25tJZkT5yduKZD5Ue3RWNH0AFRFYM6RzcYxqDCxngujfRx3RPDyiSN1H99ip3C1qnKHCOH+4QOHfEPuBdT81WfiYW02sqjg=\"\n",
    "\n",
    "\n",
    "#계좌번호 앞 8자리\n",
    "my_acct=\"43016876\"\n",
    "my_acct_stock= \"증권계좌 8자리\"\n",
    "my_acct_future= \"선물옵션계좌 8자리\"\n",
    "#계좌번호 뒤 2자리\n",
    "my_prod= \"01\"\n",
    "#my_prod: \"03\"\n",
    "\n",
    "#실전투자\n",
    "prod= \"https://openapi.koreainvestment.com:9443\"\n",
    "#모의투자\n",
    "vps= \"https://openapivts.koreainvestment.com:29443\"\n",
    "\n",
    "\n",
    "my_agent= \"Mozilla/5.0 (Windows NT 10.0; Win64; x64) AppleWebKit/537.36 (KHTML, like Gecko) Chrome/114.0.0.0 Safari/537.36\""
   ]
  },
  {
   "cell_type": "code",
   "execution_count": 45,
   "id": "d1522454",
   "metadata": {},
   "outputs": [],
   "source": [
    "class Env:\n",
    "    def __init__(self):\n",
    "        self.my_app = my_app\n",
    "        self.my_sec = my_sec\n",
    "        self.my_url = prod\n",
    "        self.my_token = None\n",
    "        self.my_acct = my_acct\n",
    "        self.my_prod = my_prod"
   ]
  },
  {
   "cell_type": "code",
   "execution_count": 46,
   "id": "cc116630",
   "metadata": {},
   "outputs": [],
   "source": [
    "_env = Env()"
   ]
  },
  {
   "cell_type": "code",
   "execution_count": 47,
   "id": "5a3a77bd",
   "metadata": {},
   "outputs": [],
   "source": [
    "def auth():\n",
    "    url = f'{_env.my_url}/oauth2/tokenP'\n",
    "    headers = {\"content\": \"application/json\"}\n",
    "    data = {\n",
    "        \"grant_type\":\"client_credentials\",\n",
    "        \"appkey\": _env.my_app,\n",
    "        \"appsecret\": _env.my_sec\n",
    "    }\n",
    "\n",
    "    res = requests.post(url, headers=headers, data= json.dumps(data))\n",
    "    if res.status_code == 200:\n",
    "        print('토큰 발급 성공')\n",
    "        _env.my_token = res.json()['access_token']\n",
    "    else:\n",
    "        print(\"토큰 발급 실패\")\n",
    "        print(res.status_code, res.text)"
   ]
  },
  {
   "cell_type": "code",
   "execution_count": 48,
   "id": "8cdc9415",
   "metadata": {},
   "outputs": [
    {
     "name": "stdout",
     "output_type": "stream",
     "text": [
      "토큰 발급 성공\n"
     ]
    }
   ],
   "source": [
    "auth()"
   ]
  },
  {
   "cell_type": "code",
   "execution_count": 54,
   "id": "1bf83b1e",
   "metadata": {},
   "outputs": [],
   "source": [
    "stock_code = \"005930\" # 삼성전자\n",
    "\n",
    "URL = f\"{_env.my_url}/uapi/domestic-stock/v1/quotations/inquire-price\"\n",
    "\n",
    "# 헤더 설정\n",
    "headers = {\n",
    "    \"Content-Type\": \"application/json\",\n",
    "    \"authorization\": f\"Bearer {_env.my_token}\",\n",
    "    \"appkey\": _env.my_app,\n",
    "    \"appsecret\": _env.my_sec,\n",
    "    \"tr_id\": \"FHKST01010100\",  # 현재가 조회 TR\n",
    "    \"custtype\": \"P\"\n",
    "}\n",
    "\n",
    "params = {\n",
    "    \"fid_cond_mrkt_div_code\": \"J\",   # 주식 시장 구분: J=코스피, Q=코스닥\n",
    "    \"fid_input_iscd\": stock_code     # 종목코드\n",
    "}"
   ]
  },
  {
   "cell_type": "code",
   "execution_count": null,
   "id": "031d4388",
   "metadata": {},
   "outputs": [
    {
     "name": "stdout",
     "output_type": "stream",
     "text": [
      "✅ 현재가 데이터 조회 완료!\n"
     ]
    },
    {
     "data": {
      "text/html": [
       "<div>\n",
       "<style scoped>\n",
       "    .dataframe tbody tr th:only-of-type {\n",
       "        vertical-align: middle;\n",
       "    }\n",
       "\n",
       "    .dataframe tbody tr th {\n",
       "        vertical-align: top;\n",
       "    }\n",
       "\n",
       "    .dataframe thead th {\n",
       "        text-align: right;\n",
       "    }\n",
       "</style>\n",
       "<table border=\"1\" class=\"dataframe\">\n",
       "  <thead>\n",
       "    <tr style=\"text-align: right;\">\n",
       "      <th></th>\n",
       "      <th>iscd_stat_cls_code</th>\n",
       "      <th>marg_rate</th>\n",
       "      <th>rprs_mrkt_kor_name</th>\n",
       "      <th>bstp_kor_isnm</th>\n",
       "      <th>temp_stop_yn</th>\n",
       "      <th>oprc_rang_cont_yn</th>\n",
       "      <th>clpr_rang_cont_yn</th>\n",
       "      <th>crdt_able_yn</th>\n",
       "      <th>grmn_rate_cls_code</th>\n",
       "      <th>elw_pblc_yn</th>\n",
       "      <th>...</th>\n",
       "      <th>cpfn_cnnm</th>\n",
       "      <th>frgn_hldn_qty</th>\n",
       "      <th>vi_cls_code</th>\n",
       "      <th>ovtm_vi_cls_code</th>\n",
       "      <th>last_ssts_cntg_qty</th>\n",
       "      <th>invt_caful_yn</th>\n",
       "      <th>mrkt_warn_cls_code</th>\n",
       "      <th>short_over_yn</th>\n",
       "      <th>sltr_yn</th>\n",
       "      <th>mang_issu_cls_code</th>\n",
       "    </tr>\n",
       "  </thead>\n",
       "  <tbody>\n",
       "    <tr>\n",
       "      <th>0</th>\n",
       "      <td>55</td>\n",
       "      <td>20.00</td>\n",
       "      <td>KOSPI200</td>\n",
       "      <td>전기·전자</td>\n",
       "      <td>N</td>\n",
       "      <td>N</td>\n",
       "      <td>N</td>\n",
       "      <td>Y</td>\n",
       "      <td>40</td>\n",
       "      <td>Y</td>\n",
       "      <td>...</td>\n",
       "      <td>7,780 억</td>\n",
       "      <td>2963359261</td>\n",
       "      <td>N</td>\n",
       "      <td>N</td>\n",
       "      <td>175324</td>\n",
       "      <td>N</td>\n",
       "      <td>00</td>\n",
       "      <td>N</td>\n",
       "      <td>N</td>\n",
       "      <td>N</td>\n",
       "    </tr>\n",
       "  </tbody>\n",
       "</table>\n",
       "<p>1 rows × 80 columns</p>\n",
       "</div>"
      ],
      "text/plain": [
       "  iscd_stat_cls_code marg_rate rprs_mrkt_kor_name bstp_kor_isnm temp_stop_yn  \\\n",
       "0                 55     20.00           KOSPI200         전기·전자            N   \n",
       "\n",
       "  oprc_rang_cont_yn clpr_rang_cont_yn crdt_able_yn grmn_rate_cls_code  \\\n",
       "0                 N                 N            Y                 40   \n",
       "\n",
       "  elw_pblc_yn  ... cpfn_cnnm frgn_hldn_qty vi_cls_code ovtm_vi_cls_code  \\\n",
       "0           Y  ...   7,780 억    2963359261           N                N   \n",
       "\n",
       "  last_ssts_cntg_qty invt_caful_yn mrkt_warn_cls_code short_over_yn sltr_yn  \\\n",
       "0             175324             N                 00             N       N   \n",
       "\n",
       "  mang_issu_cls_code  \n",
       "0                  N  \n",
       "\n",
       "[1 rows x 80 columns]"
      ]
     },
     "metadata": {},
     "output_type": "display_data"
    }
   ],
   "source": [
    "# 요청\n",
    "res = requests.get(URL, headers=headers, params=params)\n",
    "data = res.json()\n",
    "\n",
    "# 결과 출력\n",
    "if data['rt_cd'] == '0':\n",
    "    df = pd.DataFrame([data['output']])\n",
    "    print(\"현재가 데이터 조회 성공\")\n",
    "    display(df)\n",
    "else:\n",
    "    print(\"조회 실패\", data['msg_cd'], data['msg1'])"
   ]
  },
  {
   "cell_type": "code",
   "execution_count": 65,
   "id": "0d3ef934",
   "metadata": {},
   "outputs": [
    {
     "data": {
      "text/plain": [
       "Index(['iscd_stat_cls_code', 'marg_rate', 'rprs_mrkt_kor_name',\n",
       "       'bstp_kor_isnm', 'temp_stop_yn', 'oprc_rang_cont_yn',\n",
       "       'clpr_rang_cont_yn', 'crdt_able_yn', 'grmn_rate_cls_code',\n",
       "       'elw_pblc_yn', 'stck_prpr', 'prdy_vrss', 'prdy_vrss_sign', 'prdy_ctrt',\n",
       "       'acml_tr_pbmn', 'acml_vol', 'prdy_vrss_vol_rate', 'stck_oprc',\n",
       "       'stck_hgpr', 'stck_lwpr', 'stck_mxpr', 'stck_llam', 'stck_sdpr',\n",
       "       'wghn_avrg_stck_prc', 'hts_frgn_ehrt', 'frgn_ntby_qty', 'pgtr_ntby_qty',\n",
       "       'pvt_scnd_dmrs_prc', 'pvt_frst_dmrs_prc', 'pvt_pont_val',\n",
       "       'pvt_frst_dmsp_prc', 'pvt_scnd_dmsp_prc', 'dmrs_val', 'dmsp_val',\n",
       "       'cpfn', 'rstc_wdth_prc', 'stck_fcam', 'stck_sspr', 'aspr_unit',\n",
       "       'hts_deal_qty_unit_val', 'lstn_stcn', 'hts_avls', 'per', 'pbr',\n",
       "       'stac_month', 'vol_tnrt', 'eps', 'bps', 'd250_hgpr', 'd250_hgpr_date',\n",
       "       'd250_hgpr_vrss_prpr_rate', 'd250_lwpr', 'd250_lwpr_date',\n",
       "       'd250_lwpr_vrss_prpr_rate', 'stck_dryy_hgpr',\n",
       "       'dryy_hgpr_vrss_prpr_rate', 'dryy_hgpr_date', 'stck_dryy_lwpr',\n",
       "       'dryy_lwpr_vrss_prpr_rate', 'dryy_lwpr_date', 'w52_hgpr',\n",
       "       'w52_hgpr_vrss_prpr_ctrt', 'w52_hgpr_date', 'w52_lwpr',\n",
       "       'w52_lwpr_vrss_prpr_ctrt', 'w52_lwpr_date', 'whol_loan_rmnd_rate',\n",
       "       'ssts_yn', 'stck_shrn_iscd', 'fcam_cnnm', 'cpfn_cnnm', 'frgn_hldn_qty',\n",
       "       'vi_cls_code', 'ovtm_vi_cls_code', 'last_ssts_cntg_qty',\n",
       "       'invt_caful_yn', 'mrkt_warn_cls_code', 'short_over_yn', 'sltr_yn',\n",
       "       'mang_issu_cls_code'],\n",
       "      dtype='object')"
      ]
     },
     "execution_count": 65,
     "metadata": {},
     "output_type": "execute_result"
    }
   ],
   "source": [
    "df.columns"
   ]
  },
  {
   "cell_type": "markdown",
   "id": "73c8dddf",
   "metadata": {},
   "source": [
    "- '시가': 'open',\n",
    "- '고가': 'high',\n",
    "- '저가': 'low',\n",
    "- '종가': 'close',\n",
    "- '거래량': 'volume',\n",
    "- '등락률' : 'change_rate',\n",
    "- 'BPS' : 'bps',\n",
    "- 'PER' : 'per',\n",
    "- 'PBR' : 'pbr',\n",
    "- 'EPS' : 'eps',\n",
    "- 'DIV' : 'div',\n",
    "- 'DPS': 'dps',\n",
    "- '시가총액': 'market_cap',\n",
    "- '거래대금': 'trade_value',\n",
    "- '상장주식수': 'shares',\n",
    "- '보유수량': 'foreign_shares',\n",
    "- '지분율': 'foreign_ratio',\n",
    "- '한도수량': 'limit_shares',\n",
    "- '한도소진률': 'limit_ratio'\n",
    "\n"
   ]
  },
  {
   "cell_type": "code",
   "execution_count": null,
   "id": "c7dab701",
   "metadata": {},
   "outputs": [],
   "source": [
    "def parse_market_daily_from_fhkst01010100(output: dict) -> dict:\n",
    "    return {\n",
    "        \"date\": datetime.now().strftime('%Y-%m-%d'),\n",
    "        \"code\": output.get(\"stck_shrn_iscd\"),\n",
    "        \"close\": int(output.get(\"stck_prpr\", 0)), # 종가\n",
    "        \"open\": int(output.get(\"stck_oprc\", 0)), # 시가\n",
    "        \"high\": int(output.get(\"stck_hgpr\", 0)), \n",
    "        \"low\": int(output.get(\"stck_lwpr\", 0)),\n",
    "        \"volume\": int(output.get(\"acml_vol\", 0)),\n",
    "        \"market_cap\": int(output.get(\"hts_avls\", 0)),\n",
    "        \"foreign_ratio\": float(output.get(\"hts_frgn_ehrt\", 0.0)),\n",
    "    }\n",
    "    "
   ]
  },
  {
   "cell_type": "code",
   "execution_count": 69,
   "id": "22ef4606",
   "metadata": {},
   "outputs": [
    {
     "data": {
      "text/html": [
       "<div>\n",
       "<style scoped>\n",
       "    .dataframe tbody tr th:only-of-type {\n",
       "        vertical-align: middle;\n",
       "    }\n",
       "\n",
       "    .dataframe tbody tr th {\n",
       "        vertical-align: top;\n",
       "    }\n",
       "\n",
       "    .dataframe thead th {\n",
       "        text-align: right;\n",
       "    }\n",
       "</style>\n",
       "<table border=\"1\" class=\"dataframe\">\n",
       "  <thead>\n",
       "    <tr style=\"text-align: right;\">\n",
       "      <th></th>\n",
       "      <th>date</th>\n",
       "      <th>code</th>\n",
       "      <th>close</th>\n",
       "      <th>open</th>\n",
       "      <th>high</th>\n",
       "      <th>low</th>\n",
       "      <th>volume</th>\n",
       "      <th>market_cap</th>\n",
       "      <th>foreign_ratio</th>\n",
       "    </tr>\n",
       "  </thead>\n",
       "  <tbody>\n",
       "    <tr>\n",
       "      <th>0</th>\n",
       "      <td>2025-04-17</td>\n",
       "      <td>005930</td>\n",
       "      <td>55100</td>\n",
       "      <td>54700</td>\n",
       "      <td>55300</td>\n",
       "      <td>54500</td>\n",
       "      <td>10867069</td>\n",
       "      <td>3261720</td>\n",
       "      <td>50.06</td>\n",
       "    </tr>\n",
       "  </tbody>\n",
       "</table>\n",
       "</div>"
      ],
      "text/plain": [
       "         date    code  close   open   high    low    volume  market_cap  \\\n",
       "0  2025-04-17  005930  55100  54700  55300  54500  10867069     3261720   \n",
       "\n",
       "   foreign_ratio  \n",
       "0          50.06  "
      ]
     },
     "metadata": {},
     "output_type": "display_data"
    }
   ],
   "source": [
    "parsed = parse_market_daily_from_fhkst01010100(data[\"output\"])\n",
    "df_parsed = pd.DataFrame([parsed])\n",
    "display(df_parsed)"
   ]
  }
 ],
 "metadata": {
  "kernelspec": {
   "display_name": "Python 3",
   "language": "python",
   "name": "python3"
  },
  "language_info": {
   "codemirror_mode": {
    "name": "ipython",
    "version": 3
   },
   "file_extension": ".py",
   "mimetype": "text/x-python",
   "name": "python",
   "nbconvert_exporter": "python",
   "pygments_lexer": "ipython3",
   "version": "3.8.10"
  }
 },
 "nbformat": 4,
 "nbformat_minor": 5
}
