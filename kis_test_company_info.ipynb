{
 "cells": [
  {
   "cell_type": "markdown",
   "id": "0da2bda2",
   "metadata": {},
   "source": [
    "### 0. KIS OpenAPI 토큰 발급"
   ]
  },
  {
   "cell_type": "code",
   "execution_count": 1,
   "id": "6dd653b0",
   "metadata": {},
   "outputs": [],
   "source": [
    "import requests\n",
    "import json\n",
    "import pandas as pd\n",
    "from datetime import datetime\n",
    "from dotenv import load_dotenv\n",
    "import os"
   ]
  },
  {
   "cell_type": "code",
   "execution_count": 2,
   "id": "98b7823f",
   "metadata": {},
   "outputs": [],
   "source": [
    "#홈페이지에서 API서비스 신청시 받은 Appkey, Appsecret 값 설정\n",
    "#모의투자\n",
    "#my_app: \"앱키\"\n",
    "#my_sec: \"앱시크리트\"\n",
    "#실전투자 \n",
    "load_dotenv()\n",
    "\n",
    "my_app= os.getenv(\"MY_APP\")\n",
    "my_sec= os.getenv(\"MY_SEC\")\n",
    "\n",
    "#계좌번호 앞 8자리\n",
    "my_acct=\"43016876\"\n",
    "my_acct_stock= \"증권계좌 8자리\"\n",
    "my_acct_future= \"선물옵션계좌 8자리\"\n",
    "#계좌번호 뒤 2자리\n",
    "my_prod= \"01\"\n",
    "#my_prod: \"03\"\n",
    "\n",
    "#실전투자\n",
    "prod= \"https://openapi.koreainvestment.com:9443\"\n",
    "#모의투자\n",
    "vps= \"https://openapivts.koreainvestment.com:29443\"\n",
    "\n",
    "\n",
    "my_agent= \"Mozilla/5.0 (Windows NT 10.0; Win64; x64) AppleWebKit/537.36 (KHTML, like Gecko) Chrome/114.0.0.0 Safari/537.36\"\n",
    "\n",
    "class Env:\n",
    "    def __init__(self):\n",
    "        self.my_app = my_app\n",
    "        self.my_sec = my_sec\n",
    "        self.my_url = prod\n",
    "        self.my_token = None\n",
    "        self.my_acct = my_acct\n",
    "        self.my_prod = my_prod\n",
    "_env = Env()"
   ]
  },
  {
   "cell_type": "code",
   "execution_count": 3,
   "id": "cd0d18c3",
   "metadata": {},
   "outputs": [],
   "source": [
    "def auth():\n",
    "    url = f'{_env.my_url}/oauth2/tokenP'\n",
    "    headers = {\"content\": \"application/json\"}\n",
    "    data = {\n",
    "        \"grant_type\":\"client_credentials\",\n",
    "        \"appkey\": _env.my_app,\n",
    "        \"appsecret\": _env.my_sec\n",
    "    }\n",
    "\n",
    "    res = requests.post(url, headers=headers, data= json.dumps(data))\n",
    "    if res.status_code == 200:\n",
    "        print('토큰 발급 성공')\n",
    "        _env.my_token = res.json()['access_token']\n",
    "    else:\n",
    "        print(\"토큰 발급 실패\")\n",
    "        print(res.status_code, res.text)"
   ]
  },
  {
   "cell_type": "code",
   "execution_count": 4,
   "id": "e59464de",
   "metadata": {},
   "outputs": [
    {
     "name": "stdout",
     "output_type": "stream",
     "text": [
      "토큰 발급 성공\n"
     ]
    }
   ],
   "source": [
    "auth()"
   ]
  },
  {
   "cell_type": "markdown",
   "id": "9e848807",
   "metadata": {},
   "source": [
    "### 1. 상장된 모든 회사 종목 조회"
   ]
  },
  {
   "cell_type": "code",
   "execution_count": 15,
   "id": "f1d4ee08",
   "metadata": {},
   "outputs": [],
   "source": [
    "from pykrx import stock"
   ]
  },
  {
   "cell_type": "code",
   "execution_count": 16,
   "id": "f1e3dc2d",
   "metadata": {},
   "outputs": [],
   "source": [
    "today = pd.Timestamp(\"today\").strftime(\"%Y%m%d\")\n"
   ]
  },
  {
   "cell_type": "code",
   "execution_count": 17,
   "id": "e6a975c7",
   "metadata": {},
   "outputs": [],
   "source": [
    "# KOSPI 전체 종목\n",
    "kospi = stock.get_market_ticker_list(today, market=\"KOSPI\")\n",
    "kospi_df = pd.DataFrame([(ticker, stock.get_market_ticker_name(ticker), \"KOSPI\") for ticker in kospi],\n",
    "                        columns=[\"종목코드\", \"종목명\", \"시장\"])\n",
    "\n",
    "# KOSDAQ 전체 종목\n",
    "kosdaq = stock.get_market_ticker_list(today, market=\"KOSDAQ\")\n",
    "kosdaq_df = pd.DataFrame([(ticker, stock.get_market_ticker_name(ticker), \"KOSDAQ\") for ticker in kosdaq],\n",
    "                         columns=[\"종목코드\", \"종목명\", \"시장\"])"
   ]
  },
  {
   "cell_type": "code",
   "execution_count": 18,
   "id": "cb2a681b",
   "metadata": {},
   "outputs": [],
   "source": [
    "tickers_df = pd.concat([kospi_df, kosdaq_df], ignore_index=True)"
   ]
  },
  {
   "cell_type": "code",
   "execution_count": 19,
   "id": "1b116c25",
   "metadata": {},
   "outputs": [
    {
     "data": {
      "text/html": [
       "<div>\n",
       "<style scoped>\n",
       "    .dataframe tbody tr th:only-of-type {\n",
       "        vertical-align: middle;\n",
       "    }\n",
       "\n",
       "    .dataframe tbody tr th {\n",
       "        vertical-align: top;\n",
       "    }\n",
       "\n",
       "    .dataframe thead th {\n",
       "        text-align: right;\n",
       "    }\n",
       "</style>\n",
       "<table border=\"1\" class=\"dataframe\">\n",
       "  <thead>\n",
       "    <tr style=\"text-align: right;\">\n",
       "      <th></th>\n",
       "      <th>종목코드</th>\n",
       "      <th>종목명</th>\n",
       "      <th>시장</th>\n",
       "    </tr>\n",
       "  </thead>\n",
       "  <tbody>\n",
       "    <tr>\n",
       "      <th>0</th>\n",
       "      <td>095570</td>\n",
       "      <td>AJ네트웍스</td>\n",
       "      <td>KOSPI</td>\n",
       "    </tr>\n",
       "    <tr>\n",
       "      <th>1</th>\n",
       "      <td>006840</td>\n",
       "      <td>AK홀딩스</td>\n",
       "      <td>KOSPI</td>\n",
       "    </tr>\n",
       "    <tr>\n",
       "      <th>2</th>\n",
       "      <td>027410</td>\n",
       "      <td>BGF</td>\n",
       "      <td>KOSPI</td>\n",
       "    </tr>\n",
       "    <tr>\n",
       "      <th>3</th>\n",
       "      <td>282330</td>\n",
       "      <td>BGF리테일</td>\n",
       "      <td>KOSPI</td>\n",
       "    </tr>\n",
       "    <tr>\n",
       "      <th>4</th>\n",
       "      <td>138930</td>\n",
       "      <td>BNK금융지주</td>\n",
       "      <td>KOSPI</td>\n",
       "    </tr>\n",
       "    <tr>\n",
       "      <th>...</th>\n",
       "      <td>...</td>\n",
       "      <td>...</td>\n",
       "      <td>...</td>\n",
       "    </tr>\n",
       "    <tr>\n",
       "      <th>2752</th>\n",
       "      <td>024060</td>\n",
       "      <td>흥구석유</td>\n",
       "      <td>KOSDAQ</td>\n",
       "    </tr>\n",
       "    <tr>\n",
       "      <th>2753</th>\n",
       "      <td>010240</td>\n",
       "      <td>흥국</td>\n",
       "      <td>KOSDAQ</td>\n",
       "    </tr>\n",
       "    <tr>\n",
       "      <th>2754</th>\n",
       "      <td>189980</td>\n",
       "      <td>흥국에프엔비</td>\n",
       "      <td>KOSDAQ</td>\n",
       "    </tr>\n",
       "    <tr>\n",
       "      <th>2755</th>\n",
       "      <td>037440</td>\n",
       "      <td>희림</td>\n",
       "      <td>KOSDAQ</td>\n",
       "    </tr>\n",
       "    <tr>\n",
       "      <th>2756</th>\n",
       "      <td>238490</td>\n",
       "      <td>힘스</td>\n",
       "      <td>KOSDAQ</td>\n",
       "    </tr>\n",
       "  </tbody>\n",
       "</table>\n",
       "<p>2757 rows × 3 columns</p>\n",
       "</div>"
      ],
      "text/plain": [
       "        종목코드      종목명      시장\n",
       "0     095570   AJ네트웍스   KOSPI\n",
       "1     006840    AK홀딩스   KOSPI\n",
       "2     027410      BGF   KOSPI\n",
       "3     282330   BGF리테일   KOSPI\n",
       "4     138930  BNK금융지주   KOSPI\n",
       "...      ...      ...     ...\n",
       "2752  024060     흥구석유  KOSDAQ\n",
       "2753  010240       흥국  KOSDAQ\n",
       "2754  189980   흥국에프엔비  KOSDAQ\n",
       "2755  037440       희림  KOSDAQ\n",
       "2756  238490       힘스  KOSDAQ\n",
       "\n",
       "[2757 rows x 3 columns]"
      ]
     },
     "execution_count": 19,
     "metadata": {},
     "output_type": "execute_result"
    }
   ],
   "source": [
    "tickers_df"
   ]
  },
  {
   "cell_type": "markdown",
   "id": "41163ebc",
   "metadata": {},
   "source": [
    "### 1. KIS OpenAPI 호출 예시\n",
    "- 삼성전자(005930) 현재가 데이터 조회"
   ]
  },
  {
   "cell_type": "code",
   "execution_count": null,
   "id": "53649d74",
   "metadata": {},
   "outputs": [],
   "source": [
    "stock_code = \"005930\"\n",
    "market_code = 'J'\n",
    "url = f'{_env.my_url}/uapi/domestic-stock/v1/quotations/inquire-price'"
   ]
  },
  {
   "cell_type": "code",
   "execution_count": 32,
   "id": "e7d07be7",
   "metadata": {},
   "outputs": [],
   "source": [
    "headers = {\n",
    "    \"Content-Type\": \"application/json\",\n",
    "    \"authorization\": f'Bearer {_env.my_token}',\n",
    "    \"appkey\": _env.my_app,\n",
    "    \"appsecret\": _env.my_sec,\n",
    "    \"tr_id\": \"FHKST01010100\",  # 국내주식 현재가 시세 조회\n",
    "    \"custtype\": \"P\"\n",
    "}"
   ]
  },
  {
   "cell_type": "code",
   "execution_count": null,
   "id": "75323eb1",
   "metadata": {},
   "outputs": [],
   "source": [
    "params = {\n",
    "    \"fid_cond_mrkt_div_code\": market_code,  \n",
    "    \"fid_input_iscd\": stock_code\n",
    "}"
   ]
  },
  {
   "cell_type": "code",
   "execution_count": 55,
   "id": "22d3b1d1",
   "metadata": {},
   "outputs": [],
   "source": [
    "response = requests.get(url, headers=headers, params=params)"
   ]
  },
  {
   "cell_type": "code",
   "execution_count": 56,
   "id": "ecd67da3",
   "metadata": {},
   "outputs": [
    {
     "name": "stdout",
     "output_type": "stream",
     "text": [
      "조회 성공\n"
     ]
    },
    {
     "data": {
      "text/html": [
       "<div>\n",
       "<style scoped>\n",
       "    .dataframe tbody tr th:only-of-type {\n",
       "        vertical-align: middle;\n",
       "    }\n",
       "\n",
       "    .dataframe tbody tr th {\n",
       "        vertical-align: top;\n",
       "    }\n",
       "\n",
       "    .dataframe thead th {\n",
       "        text-align: right;\n",
       "    }\n",
       "</style>\n",
       "<table border=\"1\" class=\"dataframe\">\n",
       "  <thead>\n",
       "    <tr style=\"text-align: right;\">\n",
       "      <th></th>\n",
       "      <th>iscd_stat_cls_code</th>\n",
       "      <th>marg_rate</th>\n",
       "      <th>rprs_mrkt_kor_name</th>\n",
       "      <th>bstp_kor_isnm</th>\n",
       "      <th>temp_stop_yn</th>\n",
       "      <th>oprc_rang_cont_yn</th>\n",
       "      <th>clpr_rang_cont_yn</th>\n",
       "      <th>crdt_able_yn</th>\n",
       "      <th>grmn_rate_cls_code</th>\n",
       "      <th>elw_pblc_yn</th>\n",
       "      <th>...</th>\n",
       "      <th>cpfn_cnnm</th>\n",
       "      <th>frgn_hldn_qty</th>\n",
       "      <th>vi_cls_code</th>\n",
       "      <th>ovtm_vi_cls_code</th>\n",
       "      <th>last_ssts_cntg_qty</th>\n",
       "      <th>invt_caful_yn</th>\n",
       "      <th>mrkt_warn_cls_code</th>\n",
       "      <th>short_over_yn</th>\n",
       "      <th>sltr_yn</th>\n",
       "      <th>mang_issu_cls_code</th>\n",
       "    </tr>\n",
       "  </thead>\n",
       "  <tbody>\n",
       "    <tr>\n",
       "      <th>0</th>\n",
       "      <td>55</td>\n",
       "      <td>20.00</td>\n",
       "      <td>KOSPI200</td>\n",
       "      <td>전기·전자</td>\n",
       "      <td>N</td>\n",
       "      <td>N</td>\n",
       "      <td>N</td>\n",
       "      <td>Y</td>\n",
       "      <td>40</td>\n",
       "      <td>Y</td>\n",
       "      <td>...</td>\n",
       "      <td>7,780 억</td>\n",
       "      <td>2963359261</td>\n",
       "      <td>N</td>\n",
       "      <td>N</td>\n",
       "      <td>175324</td>\n",
       "      <td>N</td>\n",
       "      <td>00</td>\n",
       "      <td>N</td>\n",
       "      <td>N</td>\n",
       "      <td>N</td>\n",
       "    </tr>\n",
       "  </tbody>\n",
       "</table>\n",
       "<p>1 rows × 80 columns</p>\n",
       "</div>"
      ],
      "text/plain": [
       "  iscd_stat_cls_code marg_rate rprs_mrkt_kor_name bstp_kor_isnm temp_stop_yn  \\\n",
       "0                 55     20.00           KOSPI200         전기·전자            N   \n",
       "\n",
       "  oprc_rang_cont_yn clpr_rang_cont_yn crdt_able_yn grmn_rate_cls_code  \\\n",
       "0                 N                 N            Y                 40   \n",
       "\n",
       "  elw_pblc_yn  ... cpfn_cnnm frgn_hldn_qty vi_cls_code ovtm_vi_cls_code  \\\n",
       "0           Y  ...   7,780 억    2963359261           N                N   \n",
       "\n",
       "  last_ssts_cntg_qty invt_caful_yn mrkt_warn_cls_code short_over_yn sltr_yn  \\\n",
       "0             175324             N                 00             N       N   \n",
       "\n",
       "  mang_issu_cls_code  \n",
       "0                  N  \n",
       "\n",
       "[1 rows x 80 columns]"
      ]
     },
     "metadata": {},
     "output_type": "display_data"
    }
   ],
   "source": [
    "if response.status_code != 200:\n",
    "    print('조회 실패')\n",
    "else:\n",
    "    print('조회 성공')\n",
    "    data = response.json()\n",
    "    df = pd.DataFrame([data[\"output\"]])\n",
    "    display(df)"
   ]
  },
  {
   "cell_type": "markdown",
   "id": "97c48885",
   "metadata": {},
   "source": [
    "### 2. 상장된 모든 회사에 대한 고정 정보 조회\n",
    "- 종목 코드\n",
    "- 대표 시장 명\n",
    "- 업종명\n",
    "- 자본금\n",
    "- 상장 주식 수\n",
    "- 결산월\n",
    "- 데이터 입력 시각\n",
    "- 데이터 수정 시각"
   ]
  },
  {
   "cell_type": "code",
   "execution_count": 44,
   "id": "4dbab400",
   "metadata": {},
   "outputs": [],
   "source": [
    "import time"
   ]
  },
  {
   "cell_type": "code",
   "execution_count": 68,
   "id": "1fa6a099",
   "metadata": {},
   "outputs": [],
   "source": [
    "def get_company_static_info(stock_code, market):\n",
    "    url = f\"{_env.my_url}/uapi/domestic-stock/v1/quotations/inquire-price\"\n",
    "    params = {\n",
    "        \"fid_cond_mrkt_div_code\": \"J\" if market == \"KOSPI\" or market == \"KOSDAQ\" else \"NX\",  # 9로 시작하면 코스닥\n",
    "        \"fid_input_iscd\": stock_code\n",
    "    }\n",
    "    response = requests.get(url, headers=headers, params=params)\n",
    "    data = response.json()\n",
    "    \n",
    "    if response.status_code == 200:\n",
    "        out = data[\"output\"]\n",
    "        print(out)\n",
    "        return {\n",
    "            \"종목 코드\": out[\"stck_shrn_iscd\"],\n",
    "            \"대표 시장 명\": out[\"rprs_mrkt_kor_name\"],\n",
    "            \"industry\": out.get(\"bstp_kor_isnm\", \"\"),\n",
    "            \"자본금(억 원)\": out[\"cpfn\"],\n",
    "            \"상장 주식 수\": out[\"lstn_stcn\"],\n",
    "            \"결산월\": out[\"stac_month\"],\n",
    "            \"created_at\": datetime.now(),\n",
    "            \"updated_at\": datetime.now()\n",
    "        }\n",
    "    else:\n",
    "        print('조회 실패')\n",
    "        return None"
   ]
  },
  {
   "cell_type": "code",
   "execution_count": 58,
   "id": "9b280415",
   "metadata": {},
   "outputs": [
    {
     "name": "stdout",
     "output_type": "stream",
     "text": [
      "{'종목 코드': '095570', '대표 시장 명': 'KOSPI', '업종명': '일반서비스', '자본금(억 원)': '468', '상장 주식 수': '45252759', '결산월': '12', 'created_at': datetime.datetime(2025, 4, 18, 1, 22, 14, 728499), 'updated_at': datetime.datetime(2025, 4, 18, 1, 22, 14, 728499)}\n",
      "{'종목 코드': '006840', '대표 시장 명': 'KOSPI', '업종명': '금융', '자본금(억 원)': '662', '상장 주식 수': '13247561', '결산월': '12', 'created_at': datetime.datetime(2025, 4, 18, 1, 22, 15, 166917), 'updated_at': datetime.datetime(2025, 4, 18, 1, 22, 15, 166917)}\n",
      "{'종목 코드': '027410', '대표 시장 명': 'KOSPI', '업종명': '금융', '자본금(억 원)': '957', '상장 주식 수': '95716791', '결산월': '12', 'created_at': datetime.datetime(2025, 4, 18, 1, 22, 15, 543822), 'updated_at': datetime.datetime(2025, 4, 18, 1, 22, 15, 543822)}\n",
      "{'종목 코드': '282330', '대표 시장 명': 'KOSPI200', '업종명': '유통', '자본금(억 원)': '173', '상장 주식 수': '17283906', '결산월': '12', 'created_at': datetime.datetime(2025, 4, 18, 1, 22, 15, 959694), 'updated_at': datetime.datetime(2025, 4, 18, 1, 22, 15, 959694)}\n",
      "{'종목 코드': '138930', '대표 시장 명': 'KOSPI200', '업종명': '금융', '자본금(억 원)': '16297', '상장 주식 수': '318383519', '결산월': '12', 'created_at': datetime.datetime(2025, 4, 18, 1, 22, 16, 372324), 'updated_at': datetime.datetime(2025, 4, 18, 1, 22, 16, 372324)}\n",
      "{'종목 코드': '001460', '대표 시장 명': 'KOSPI', '업종명': '섬유·의류', '자본금(억 원)': '31', '상장 주식 수': '6246150', '결산월': '12', 'created_at': datetime.datetime(2025, 4, 18, 1, 22, 16, 758137), 'updated_at': datetime.datetime(2025, 4, 18, 1, 22, 16, 758137)}\n",
      "{'종목 코드': '001465', '대표 시장 명': 'KOSPI', '업종명': '섬유·의류', '자본금(억 원)': '11', '상장 주식 수': '2153850', '결산월': '12', 'created_at': datetime.datetime(2025, 4, 18, 1, 22, 17, 123191), 'updated_at': datetime.datetime(2025, 4, 18, 1, 22, 17, 123191)}\n",
      "{'종목 코드': '001040', '대표 시장 명': 'KOSPI200', '업종명': '금융', '자본금(억 원)': '1466', '상장 주식 수': '29176998', '결산월': '12', 'created_at': datetime.datetime(2025, 4, 18, 1, 22, 17, 553454), 'updated_at': datetime.datetime(2025, 4, 18, 1, 22, 17, 553454)}\n"
     ]
    },
    {
     "ename": "KeyboardInterrupt",
     "evalue": "",
     "output_type": "error",
     "traceback": [
      "\u001b[1;31m---------------------------------------------------------------------------\u001b[0m",
      "\u001b[1;31mKeyboardInterrupt\u001b[0m                         Traceback (most recent call last)",
      "Cell \u001b[1;32mIn[58], line 15\u001b[0m\n\u001b[0;32m     12\u001b[0m         info[\u001b[38;5;124m'\u001b[39m\u001b[38;5;124m종목명\u001b[39m\u001b[38;5;124m'\u001b[39m] \u001b[38;5;241m=\u001b[39m name\n\u001b[0;32m     13\u001b[0m         results\u001b[38;5;241m.\u001b[39mappend(info)\n\u001b[1;32m---> 15\u001b[0m     \u001b[43mtime\u001b[49m\u001b[38;5;241;43m.\u001b[39;49m\u001b[43msleep\u001b[49m\u001b[43m(\u001b[49m\u001b[38;5;241;43m0.3\u001b[39;49m\u001b[43m)\u001b[49m  \u001b[38;5;66;03m# API 호출 간격 제한\u001b[39;00m\n\u001b[0;32m     17\u001b[0m df_companies \u001b[38;5;241m=\u001b[39m pd\u001b[38;5;241m.\u001b[39mDataFrame(results)\n\u001b[0;32m     18\u001b[0m display(df_companies)\n",
      "\u001b[1;31mKeyboardInterrupt\u001b[0m: "
     ]
    }
   ],
   "source": [
    "results = []\n",
    "\n",
    "for i, row in tickers_df.iterrows():  \n",
    "    code = row['종목코드']\n",
    "    name = row['종목명']\n",
    "    \n",
    "    # print(f\"[{i+1}] 종목코드: {code}, 종목명: {name}\")\n",
    "    \n",
    "    info = get_company_static_info(code)\n",
    "    print(info)\n",
    "    if info:\n",
    "        info['종목명'] = name\n",
    "        results.append(info)\n",
    "    \n",
    "    time.sleep(0.3)  # API 호출 간격 제한\n",
    "\n",
    "df_companies = pd.DataFrame(results)\n",
    "display(df_companies)"
   ]
  },
  {
   "cell_type": "code",
   "execution_count": 70,
   "id": "c4ee98b2",
   "metadata": {},
   "outputs": [
    {
     "name": "stdout",
     "output_type": "stream",
     "text": [
      "{'iscd_stat_cls_code': '57', 'marg_rate': '100.00', 'rprs_mrkt_kor_name': 'KONEX', 'temp_stop_yn': 'N', 'oprc_rang_cont_yn': 'N', 'clpr_rang_cont_yn': 'N', 'crdt_able_yn': 'N', 'grmn_rate_cls_code': ' ', 'elw_pblc_yn': 'N', 'stck_prpr': '3800', 'prdy_vrss': '100', 'prdy_vrss_sign': '2', 'prdy_ctrt': '2.70', 'acml_tr_pbmn': '3800', 'acml_vol': '1', 'prdy_vrss_vol_rate': '0.16', 'stck_oprc': '3800', 'stck_hgpr': '3800', 'stck_lwpr': '3800', 'stck_mxpr': '4255', 'stck_llam': '3145', 'stck_sdpr': '3700', 'wghn_avrg_stck_prc': '3800.00', 'hts_frgn_ehrt': '0.00', 'frgn_ntby_qty': '0', 'pgtr_ntby_qty': '0', 'pvt_scnd_dmrs_prc': '3900', 'pvt_frst_dmrs_prc': '3800', 'pvt_pont_val': '3600', 'pvt_frst_dmsp_prc': '3500', 'pvt_scnd_dmsp_prc': '3300', 'dmrs_val': '3850', 'dmsp_val': '3550', 'cpfn': '24', 'rstc_wdth_prc': '555', 'stck_fcam': '500', 'stck_sspr': '2290', 'aspr_unit': '5', 'hts_deal_qty_unit_val': '1', 'lstn_stcn': '4836831', 'hts_avls': '184', 'per': '7.24', 'pbr': '0.62', 'stac_month': '12', 'vol_tnrt': '0.00', 'eps': '525.00', 'bps': '6162.00', 'd250_hgpr': '10980', 'd250_hgpr_date': '20240419', 'd250_hgpr_vrss_prpr_rate': '-65.39', 'd250_lwpr': '3350', 'd250_lwpr_date': '20250414', 'd250_lwpr_vrss_prpr_rate': '13.43', 'stck_dryy_hgpr': '5050', 'dryy_hgpr_vrss_prpr_rate': '-24.75', 'dryy_hgpr_date': '20250214', 'stck_dryy_lwpr': '3350', 'dryy_lwpr_vrss_prpr_rate': '13.43', 'dryy_lwpr_date': '20250414', 'w52_hgpr': '10980', 'w52_hgpr_vrss_prpr_ctrt': '-65.39', 'w52_hgpr_date': '20240419', 'w52_lwpr': '3350', 'w52_lwpr_vrss_prpr_ctrt': '13.43', 'w52_lwpr_date': '20250414', 'whol_loan_rmnd_rate': '0.00', 'ssts_yn': 'Y', 'stck_shrn_iscd': '278990', 'fcam_cnnm': '500', 'cpfn_cnnm': '24 억', 'frgn_hldn_qty': '0', 'vi_cls_code': 'N', 'ovtm_vi_cls_code': 'N', 'last_ssts_cntg_qty': '0', 'invt_caful_yn': 'N', 'mrkt_warn_cls_code': '00', 'short_over_yn': 'N', 'sltr_yn': 'N', 'mang_issu_cls_code': 'N'}\n"
     ]
    },
    {
     "data": {
      "text/plain": [
       "{'종목 코드': '278990',\n",
       " '대표 시장 명': 'KONEX',\n",
       " 'industry': '',\n",
       " '자본금(억 원)': '24',\n",
       " '상장 주식 수': '4836831',\n",
       " '결산월': '12',\n",
       " 'created_at': datetime.datetime(2025, 4, 18, 2, 33, 22, 660914),\n",
       " 'updated_at': datetime.datetime(2025, 4, 18, 2, 33, 22, 660914)}"
      ]
     },
     "execution_count": 70,
     "metadata": {},
     "output_type": "execute_result"
    }
   ],
   "source": [
    "get_company_static_info(\"278990\", \"KOSDAQ\")"
   ]
  },
  {
   "cell_type": "code",
   "execution_count": null,
   "id": "fef95ee1",
   "metadata": {},
   "outputs": [],
   "source": []
  }
 ],
 "metadata": {
  "kernelspec": {
   "display_name": "Python 3",
   "language": "python",
   "name": "python3"
  },
  "language_info": {
   "codemirror_mode": {
    "name": "ipython",
    "version": 3
   },
   "file_extension": ".py",
   "mimetype": "text/x-python",
   "name": "python",
   "nbconvert_exporter": "python",
   "pygments_lexer": "ipython3",
   "version": "3.8.10"
  }
 },
 "nbformat": 4,
 "nbformat_minor": 5
}
