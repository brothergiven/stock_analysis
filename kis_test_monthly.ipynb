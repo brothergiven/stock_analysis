{
 "cells": [
  {
   "cell_type": "markdown",
   "id": "815cc415",
   "metadata": {},
   "source": [
    "### 국내 주식 주별 시세 UPDATE"
   ]
  },
  {
   "cell_type": "code",
   "execution_count": 4,
   "id": "94ad3d3c",
   "metadata": {},
   "outputs": [],
   "source": [
    "import requests\n",
    "import json\n",
    "import pandas as pd\n",
    "from datetime import datetime\n",
    "from dotenv import load_dotenv\n",
    "import os"
   ]
  },
  {
   "cell_type": "code",
   "execution_count": 31,
   "id": "b57b6a91",
   "metadata": {},
   "outputs": [],
   "source": [
    "url = \"/uapi/domestic-stock/v1/quotations/inquire-daily-itemchartprice\"\n",
    "\n",
    "load_dotenv()\n",
    "\n",
    "my_app= os.getenv(\"MY_APP\")\n",
    "my_sec= os.getenv(\"MY_SEC\")\n",
    "\n",
    "#계좌번호 앞 8자리\n",
    "my_acct=\"43016876\"\n",
    "my_acct_stock= \"증권계좌 8자리\"\n",
    "my_acct_future= \"선물옵션계좌 8자리\"\n",
    "#계좌번호 뒤 2자리\n",
    "my_prod= \"01\"\n",
    "#my_prod: \"03\"\n",
    "\n",
    "#실전투자\n",
    "prod= \"https://openapi.koreainvestment.com:9443\"\n",
    "#모의투자\n",
    "vps= \"https://openapivts.koreainvestment.com:29443\"\n",
    "\n",
    "\n",
    "my_agent= \"Mozilla/5.0 (Windows NT 10.0; Win64; x64) AppleWebKit/537.36 (KHTML, like Gecko) Chrome/114.0.0.0 Safari/537.36\"\n",
    "\n",
    "class Env:\n",
    "    def __init__(self):\n",
    "        self.my_app = my_app\n",
    "        self.my_sec = my_sec\n",
    "        self.my_url = prod\n",
    "        self.my_token = None\n",
    "        self.my_acct = my_acct\n",
    "        self.my_prod = my_prod\n",
    "_env = Env()"
   ]
  },
  {
   "cell_type": "code",
   "execution_count": 57,
   "id": "89a8efe0",
   "metadata": {},
   "outputs": [],
   "source": [
    "def auth():\n",
    "    url = f'{_env.my_url}/oauth2/tokenP'\n",
    "    headers = {\"content\": \"application/json\"}\n",
    "    data = {\n",
    "        \"grant_type\":\"client_credentials\",\n",
    "        \"appkey\": _env.my_app,\n",
    "        \"appsecret\": _env.my_sec\n",
    "    }\n",
    "\n",
    "    res = requests.post(url, headers=headers, data= json.dumps(data))\n",
    "    if res.status_code == 200:\n",
    "        print('토큰 발급 성공')\n",
    "        _env.my_token = res.json()['access_token']\n",
    "    else:\n",
    "        print(\"토큰 발급 실패\")\n",
    "        print(res.status_code, res.text)"
   ]
  },
  {
   "cell_type": "code",
   "execution_count": 58,
   "id": "56cb73e1",
   "metadata": {},
   "outputs": [
    {
     "name": "stdout",
     "output_type": "stream",
     "text": [
      "토큰 발급 성공\n"
     ]
    }
   ],
   "source": [
    "auth()"
   ]
  },
  {
   "cell_type": "markdown",
   "id": "5fc9843f",
   "metadata": {},
   "source": [
    "KOSPI200 종목에 대해 주별 시세 받아오기"
   ]
  },
  {
   "cell_type": "code",
   "execution_count": 125,
   "id": "5a8ac51d",
   "metadata": {},
   "outputs": [],
   "source": [
    "stock_code = \"005930\"\n",
    "market_code = \"J\""
   ]
  },
  {
   "cell_type": "code",
   "execution_count": 126,
   "id": "3b84f71d",
   "metadata": {},
   "outputs": [],
   "source": [
    "headers = {\n",
    "    \"Content-Type\": \"application/json\",\n",
    "    \"authorization\": f'Bearer {_env.my_token}',\n",
    "    \"appkey\": _env.my_app,\n",
    "    \"appsecret\": _env.my_sec,\n",
    "    \"tr_id\": \"FHKST03010100\", \n",
    "    \"custtype\": \"P\"\n",
    "}"
   ]
  },
  {
   "cell_type": "code",
   "execution_count": 127,
   "id": "2fd8b0da",
   "metadata": {},
   "outputs": [],
   "source": [
    "params = {\n",
    "    \"fid_cond_mrkt_div_code\": market_code,  \n",
    "    \"fid_input_iscd\": stock_code,\n",
    "    \"fid_period_div_code\": \"W\"\n",
    "}"
   ]
  },
  {
   "cell_type": "code",
   "execution_count": 128,
   "id": "1d5d1c38",
   "metadata": {},
   "outputs": [],
   "source": [
    "START = 2015\n",
    "END = 2024"
   ]
  },
  {
   "cell_type": "code",
   "execution_count": 129,
   "id": "017a07c9",
   "metadata": {},
   "outputs": [],
   "source": [
    "params['fid_input_date_1'] = '19660101'\n",
    "params['fid_input_date_2'] = '19661231'\n",
    "params['fid_org_adj_prc'] = 0"
   ]
  },
  {
   "cell_type": "code",
   "execution_count": 130,
   "id": "bb9585e2",
   "metadata": {},
   "outputs": [
    {
     "name": "stdout",
     "output_type": "stream",
     "text": [
      "{'fid_cond_mrkt_div_code': 'J', 'fid_input_iscd': '005930', 'fid_period_div_code': 'W', 'fid_input_date_1': '19660101', 'fid_input_date_2': '19661231', 'fid_org_adj_prc': 0}\n"
     ]
    }
   ],
   "source": [
    "print(params)"
   ]
  },
  {
   "cell_type": "code",
   "execution_count": 131,
   "id": "7e2d74c2",
   "metadata": {},
   "outputs": [
    {
     "name": "stdout",
     "output_type": "stream",
     "text": [
      "조회 성공\n"
     ]
    }
   ],
   "source": [
    "my_url=_env.my_url+url\n",
    "response = requests.get(my_url, headers=headers, params=params)\n",
    "if response.status_code != 200:\n",
    "    print('조회 실패')\n",
    "else:\n",
    "    print('조회 성공')\n",
    "    data = response.json()"
   ]
  },
  {
   "cell_type": "code",
   "execution_count": null,
   "id": "d34e832e",
   "metadata": {},
   "outputs": [
    {
     "data": {
      "text/plain": [
       "{'output1': {'prdy_vrss': '400',\n",
       "  'prdy_vrss_sign': '2',\n",
       "  'prdy_ctrt': '0.73',\n",
       "  'stck_prdy_clpr': '54700',\n",
       "  'acml_vol': '10867069',\n",
       "  'acml_tr_pbmn': '597524532250',\n",
       "  'hts_kor_isnm': '삼성전자',\n",
       "  'stck_prpr': '55100',\n",
       "  'stck_shrn_iscd': '005930',\n",
       "  'prdy_vol': '14437025',\n",
       "  'stck_mxpr': '71100',\n",
       "  'stck_llam': '38300',\n",
       "  'stck_oprc': '54700',\n",
       "  'stck_hgpr': '55300',\n",
       "  'stck_lwpr': '54500',\n",
       "  'stck_prdy_oprc': '56000',\n",
       "  'stck_prdy_hgpr': '56200',\n",
       "  'stck_prdy_lwpr': '54500',\n",
       "  'askp': '55200',\n",
       "  'bidp': '55100',\n",
       "  'prdy_vrss_vol': '-3569956',\n",
       "  'vol_tnrt': '0.18',\n",
       "  'stck_fcam': '100',\n",
       "  'lstn_stcn': '5919637922',\n",
       "  'cpfn': '7780',\n",
       "  'hts_avls': '3261720',\n",
       "  'per': '11.13',\n",
       "  'eps': '4950.00',\n",
       "  'pbr': '0.95',\n",
       "  'itewhol_loan_rmnd_ratem name': '0.22'},\n",
       " 'output2': [],\n",
       " 'rt_cd': '0',\n",
       " 'msg_cd': 'MCA00000',\n",
       " 'msg1': '정상처리 되었습니다.'}"
      ]
     },
     "execution_count": 134,
     "metadata": {},
     "output_type": "execute_result"
    }
   ],
   "source": []
  },
  {
   "cell_type": "code",
   "execution_count": 133,
   "id": "af41dce8",
   "metadata": {},
   "outputs": [
    {
     "ename": "KeyError",
     "evalue": "'stck_bsop_date'",
     "output_type": "error",
     "traceback": [
      "\u001b[1;31m---------------------------------------------------------------------------\u001b[0m",
      "\u001b[1;31mKeyError\u001b[0m                                  Traceback (most recent call last)",
      "Cell \u001b[1;32mIn[133], line 3\u001b[0m\n\u001b[0;32m      1\u001b[0m li \u001b[38;5;241m=\u001b[39m response\u001b[38;5;241m.\u001b[39mjson()[\u001b[38;5;124m'\u001b[39m\u001b[38;5;124moutput2\u001b[39m\u001b[38;5;124m'\u001b[39m]\n\u001b[0;32m      2\u001b[0m df \u001b[38;5;241m=\u001b[39m pd\u001b[38;5;241m.\u001b[39mDataFrame(li)\n\u001b[1;32m----> 3\u001b[0m \u001b[43mdf\u001b[49m\u001b[38;5;241;43m.\u001b[39;49m\u001b[43msort_values\u001b[49m\u001b[43m(\u001b[49m\u001b[43mby\u001b[49m\u001b[38;5;241;43m=\u001b[39;49m\u001b[38;5;124;43m'\u001b[39;49m\u001b[38;5;124;43mstck_bsop_date\u001b[39;49m\u001b[38;5;124;43m'\u001b[39;49m\u001b[43m)\u001b[49m\n\u001b[0;32m      4\u001b[0m df \u001b[38;5;241m=\u001b[39m df[[\u001b[38;5;124m'\u001b[39m\u001b[38;5;124mstck_bsop_date\u001b[39m\u001b[38;5;124m'\u001b[39m, \u001b[38;5;124m'\u001b[39m\u001b[38;5;124mstck_clpr\u001b[39m\u001b[38;5;124m'\u001b[39m, \u001b[38;5;124m'\u001b[39m\u001b[38;5;124mstck_oprc\u001b[39m\u001b[38;5;124m'\u001b[39m, \u001b[38;5;124m'\u001b[39m\u001b[38;5;124mstck_hgpr\u001b[39m\u001b[38;5;124m'\u001b[39m, \u001b[38;5;124m'\u001b[39m\u001b[38;5;124mstck_lwpr\u001b[39m\u001b[38;5;124m'\u001b[39m, \u001b[38;5;124m'\u001b[39m\u001b[38;5;124macml_vol\u001b[39m\u001b[38;5;124m'\u001b[39m, \u001b[38;5;124m'\u001b[39m\u001b[38;5;124macml_tr_pbmn\u001b[39m\u001b[38;5;124m'\u001b[39m]]\n\u001b[0;32m      6\u001b[0m df \u001b[38;5;241m=\u001b[39m df\u001b[38;5;241m.\u001b[39mrename(columns\u001b[38;5;241m=\u001b[39m{\n\u001b[0;32m      7\u001b[0m     \u001b[38;5;124m\"\u001b[39m\u001b[38;5;124mstck_bsop_date\u001b[39m\u001b[38;5;124m\"\u001b[39m: \u001b[38;5;124m\"\u001b[39m\u001b[38;5;124mdate\u001b[39m\u001b[38;5;124m\"\u001b[39m,\n\u001b[0;32m      8\u001b[0m     \u001b[38;5;124m\"\u001b[39m\u001b[38;5;124mstck_clpr\u001b[39m\u001b[38;5;124m\"\u001b[39m: \u001b[38;5;124m\"\u001b[39m\u001b[38;5;124mclose\u001b[39m\u001b[38;5;124m\"\u001b[39m,\n\u001b[1;32m   (...)\u001b[0m\n\u001b[0;32m     13\u001b[0m     \u001b[38;5;124m\"\u001b[39m\u001b[38;5;124macml_tr_pbmn\u001b[39m\u001b[38;5;124m\"\u001b[39m: \u001b[38;5;124m\"\u001b[39m\u001b[38;5;124mtrade_amount\u001b[39m\u001b[38;5;124m\"\u001b[39m\n\u001b[0;32m     14\u001b[0m })\n",
      "File \u001b[1;32mc:\\Users\\JUN\\AppData\\Local\\Programs\\Python\\Python38\\lib\\site-packages\\pandas\\core\\frame.py:6758\u001b[0m, in \u001b[0;36mDataFrame.sort_values\u001b[1;34m(self, by, axis, ascending, inplace, kind, na_position, ignore_index, key)\u001b[0m\n\u001b[0;32m   6754\u001b[0m \u001b[38;5;28;01melif\u001b[39;00m \u001b[38;5;28mlen\u001b[39m(by):\n\u001b[0;32m   6755\u001b[0m     \u001b[38;5;66;03m# len(by) == 1\u001b[39;00m\n\u001b[0;32m   6757\u001b[0m     by \u001b[38;5;241m=\u001b[39m by[\u001b[38;5;241m0\u001b[39m]\n\u001b[1;32m-> 6758\u001b[0m     k \u001b[38;5;241m=\u001b[39m \u001b[38;5;28;43mself\u001b[39;49m\u001b[38;5;241;43m.\u001b[39;49m\u001b[43m_get_label_or_level_values\u001b[49m\u001b[43m(\u001b[49m\u001b[43mby\u001b[49m\u001b[43m,\u001b[49m\u001b[43m \u001b[49m\u001b[43maxis\u001b[49m\u001b[38;5;241;43m=\u001b[39;49m\u001b[43maxis\u001b[49m\u001b[43m)\u001b[49m\n\u001b[0;32m   6760\u001b[0m     \u001b[38;5;66;03m# need to rewrap column in Series to apply key function\u001b[39;00m\n\u001b[0;32m   6761\u001b[0m     \u001b[38;5;28;01mif\u001b[39;00m key \u001b[38;5;129;01mis\u001b[39;00m \u001b[38;5;129;01mnot\u001b[39;00m \u001b[38;5;28;01mNone\u001b[39;00m:\n\u001b[0;32m   6762\u001b[0m         \u001b[38;5;66;03m# error: Incompatible types in assignment (expression has type\u001b[39;00m\n\u001b[0;32m   6763\u001b[0m         \u001b[38;5;66;03m# \"Series\", variable has type \"ndarray\")\u001b[39;00m\n",
      "File \u001b[1;32mc:\\Users\\JUN\\AppData\\Local\\Programs\\Python\\Python38\\lib\\site-packages\\pandas\\core\\generic.py:1778\u001b[0m, in \u001b[0;36mNDFrame._get_label_or_level_values\u001b[1;34m(self, key, axis)\u001b[0m\n\u001b[0;32m   1776\u001b[0m     values \u001b[38;5;241m=\u001b[39m \u001b[38;5;28mself\u001b[39m\u001b[38;5;241m.\u001b[39maxes[axis]\u001b[38;5;241m.\u001b[39mget_level_values(key)\u001b[38;5;241m.\u001b[39m_values\n\u001b[0;32m   1777\u001b[0m \u001b[38;5;28;01melse\u001b[39;00m:\n\u001b[1;32m-> 1778\u001b[0m     \u001b[38;5;28;01mraise\u001b[39;00m \u001b[38;5;167;01mKeyError\u001b[39;00m(key)\n\u001b[0;32m   1780\u001b[0m \u001b[38;5;66;03m# Check for duplicates\u001b[39;00m\n\u001b[0;32m   1781\u001b[0m \u001b[38;5;28;01mif\u001b[39;00m values\u001b[38;5;241m.\u001b[39mndim \u001b[38;5;241m>\u001b[39m \u001b[38;5;241m1\u001b[39m:\n",
      "\u001b[1;31mKeyError\u001b[0m: 'stck_bsop_date'"
     ]
    }
   ],
   "source": [
    "li = response.json()['output2']\n",
    "df = pd.DataFrame(li)\n",
    "df.sort_values(by='stck_bsop_date')\n",
    "df = df[['stck_bsop_date', 'stck_clpr', 'stck_oprc', 'stck_hgpr', 'stck_lwpr', 'acml_vol', 'acml_tr_pbmn']]\n",
    "\n",
    "df = df.rename(columns={\n",
    "    \"stck_bsop_date\": \"date\",\n",
    "    \"stck_clpr\": \"close\",\n",
    "    \"stck_oprc\": \"open\",\n",
    "    \"stck_hgpr\": \"high\",\n",
    "    \"stck_lwpr\": \"low\",\n",
    "    \"acml_vol\": \"volume\",\n",
    "    \"acml_tr_pbmn\": \"trade_amount\"\n",
    "})\n",
    "df"
   ]
  },
  {
   "cell_type": "code",
   "execution_count": 115,
   "id": "e4f85346",
   "metadata": {},
   "outputs": [
    {
     "data": {
      "text/plain": [
       "{'code': '005930',\n",
       " 'face_value': 100,\n",
       " 'listed_shares': 5919637922,\n",
       " 'capital': 7780,\n",
       " 'market_cap': 3261720,\n",
       " 'per': 11.13,\n",
       " 'eps': 4950.0,\n",
       " 'pbr': 0.95,\n",
       " 'loan_balance_ratio': 0.22}"
      ]
     },
     "execution_count": 115,
     "metadata": {},
     "output_type": "execute_result"
    }
   ],
   "source": [
    "raw = response.json()['output1']\n",
    "\n",
    "parsed = {\n",
    "    \"code\": raw[\"stck_shrn_iscd\"],\n",
    "    \"face_value\": int(raw[\"stck_fcam\"]),\n",
    "    \"listed_shares\": int(raw[\"lstn_stcn\"]),\n",
    "    \"capital\": int(raw[\"cpfn\"]),\n",
    "    \"market_cap\": int(raw[\"hts_avls\"]),\n",
    "    \"per\": float(raw[\"per\"]),\n",
    "    \"eps\": float(raw[\"eps\"]),\n",
    "    \"pbr\": float(raw[\"pbr\"]),\n",
    "    \"loan_balance_ratio\": float(raw[\"itewhol_loan_rmnd_ratem name\"])\n",
    "}\n",
    "\n",
    "parsed"
   ]
  }
 ],
 "metadata": {
  "kernelspec": {
   "display_name": "Python 3",
   "language": "python",
   "name": "python3"
  },
  "language_info": {
   "codemirror_mode": {
    "name": "ipython",
    "version": 3
   },
   "file_extension": ".py",
   "mimetype": "text/x-python",
   "name": "python",
   "nbconvert_exporter": "python",
   "pygments_lexer": "ipython3",
   "version": "3.8.10"
  }
 },
 "nbformat": 4,
 "nbformat_minor": 5
}
