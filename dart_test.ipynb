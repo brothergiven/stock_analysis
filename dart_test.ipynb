{
 "cells": [
  {
   "cell_type": "code",
   "execution_count": 2,
   "id": "51af1a33",
   "metadata": {},
   "outputs": [],
   "source": [
    "import requests\n",
    "import json\n",
    "import pandas as pd\n",
    "from datetime import datetime\n",
    "from dotenv import load_dotenv\n",
    "import os"
   ]
  },
  {
   "cell_type": "code",
   "execution_count": 6,
   "id": "51504ff6",
   "metadata": {},
   "outputs": [
    {
     "data": {
      "text/plain": [
       "True"
      ]
     },
     "execution_count": 6,
     "metadata": {},
     "output_type": "execute_result"
    }
   ],
   "source": [
    "load_dotenv()"
   ]
  },
  {
   "cell_type": "markdown",
   "id": "f107b8a1",
   "metadata": {},
   "source": [
    "### 공시정보 load"
   ]
  },
  {
   "cell_type": "code",
   "execution_count": 7,
   "id": "ff692347",
   "metadata": {},
   "outputs": [],
   "source": [
    "url = \"https://opendart.fss.or.kr/api/corpCode.xml\""
   ]
  },
  {
   "cell_type": "code",
   "execution_count": 10,
   "id": "8bab0fa1",
   "metadata": {},
   "outputs": [],
   "source": [
    "params = {\n",
    "    \"crtfc_key\" :os.getenv(\"DART_KEY\")\n",
    "}"
   ]
  },
  {
   "cell_type": "code",
   "execution_count": 13,
   "id": "d099b9db",
   "metadata": {},
   "outputs": [],
   "source": [
    "response = requests.get(url, params)"
   ]
  },
  {
   "cell_type": "code",
   "execution_count": 19,
   "id": "33f61f1a",
   "metadata": {},
   "outputs": [],
   "source": [
    "with open(\"corp_code.zip\", \"wb\") as f:\n",
    "    f.write(response.content)"
   ]
  },
  {
   "cell_type": "code",
   "execution_count": 21,
   "id": "bc73aeee",
   "metadata": {},
   "outputs": [],
   "source": [
    "import zipfile"
   ]
  },
  {
   "cell_type": "code",
   "execution_count": 22,
   "id": "6b937b0b",
   "metadata": {},
   "outputs": [],
   "source": [
    "with zipfile.ZipFile(\"corp_code.zip\", \"r\") as zip_ref:\n",
    "    zip_ref.extractall(\"corp_code\")  # 현재 디렉토리에 \"corp_code/CORPCODE.xml\" 생성됨"
   ]
  },
  {
   "cell_type": "code",
   "execution_count": 69,
   "id": "6d4d9efa",
   "metadata": {},
   "outputs": [
    {
     "data": {
      "text/html": [
       "<div>\n",
       "<style scoped>\n",
       "    .dataframe tbody tr th:only-of-type {\n",
       "        vertical-align: middle;\n",
       "    }\n",
       "\n",
       "    .dataframe tbody tr th {\n",
       "        vertical-align: top;\n",
       "    }\n",
       "\n",
       "    .dataframe thead th {\n",
       "        text-align: right;\n",
       "    }\n",
       "</style>\n",
       "<table border=\"1\" class=\"dataframe\">\n",
       "  <thead>\n",
       "    <tr style=\"text-align: right;\">\n",
       "      <th></th>\n",
       "      <th>corp_code</th>\n",
       "      <th>corp_name</th>\n",
       "      <th>stock_code</th>\n",
       "      <th>modify_date</th>\n",
       "    </tr>\n",
       "  </thead>\n",
       "  <tbody>\n",
       "    <tr>\n",
       "      <th>1947</th>\n",
       "      <td>00260985</td>\n",
       "      <td>한빛네트</td>\n",
       "      <td>036720</td>\n",
       "      <td>20170630</td>\n",
       "    </tr>\n",
       "    <tr>\n",
       "      <th>1959</th>\n",
       "      <td>00264529</td>\n",
       "      <td>엔플렉스</td>\n",
       "      <td>040130</td>\n",
       "      <td>20170630</td>\n",
       "    </tr>\n",
       "    <tr>\n",
       "      <th>1960</th>\n",
       "      <td>00358545</td>\n",
       "      <td>동서정보기술</td>\n",
       "      <td>055000</td>\n",
       "      <td>20170630</td>\n",
       "    </tr>\n",
       "    <tr>\n",
       "      <th>2702</th>\n",
       "      <td>00231567</td>\n",
       "      <td>애드모바일</td>\n",
       "      <td>032600</td>\n",
       "      <td>20170630</td>\n",
       "    </tr>\n",
       "    <tr>\n",
       "      <th>3774</th>\n",
       "      <td>00359614</td>\n",
       "      <td>리더컴</td>\n",
       "      <td>056140</td>\n",
       "      <td>20170630</td>\n",
       "    </tr>\n",
       "    <tr>\n",
       "      <th>...</th>\n",
       "      <td>...</td>\n",
       "      <td>...</td>\n",
       "      <td>...</td>\n",
       "      <td>...</td>\n",
       "    </tr>\n",
       "    <tr>\n",
       "      <th>110678</th>\n",
       "      <td>00520887</td>\n",
       "      <td>비상교육</td>\n",
       "      <td>100220</td>\n",
       "      <td>20240401</td>\n",
       "    </tr>\n",
       "    <tr>\n",
       "      <th>110679</th>\n",
       "      <td>00269889</td>\n",
       "      <td>누리플렉스</td>\n",
       "      <td>040160</td>\n",
       "      <td>20240401</td>\n",
       "    </tr>\n",
       "    <tr>\n",
       "      <th>110680</th>\n",
       "      <td>00633835</td>\n",
       "      <td>HJ중공업</td>\n",
       "      <td>097230</td>\n",
       "      <td>20240401</td>\n",
       "    </tr>\n",
       "    <tr>\n",
       "      <th>110681</th>\n",
       "      <td>01428203</td>\n",
       "      <td>케이씨씨글라스</td>\n",
       "      <td>344820</td>\n",
       "      <td>20240401</td>\n",
       "    </tr>\n",
       "    <tr>\n",
       "      <th>110710</th>\n",
       "      <td>00408336</td>\n",
       "      <td>인산가</td>\n",
       "      <td>062580</td>\n",
       "      <td>20240628</td>\n",
       "    </tr>\n",
       "  </tbody>\n",
       "</table>\n",
       "<p>3854 rows × 4 columns</p>\n",
       "</div>"
      ],
      "text/plain": [
       "       corp_code corp_name stock_code modify_date\n",
       "1947    00260985      한빛네트     036720    20170630\n",
       "1959    00264529      엔플렉스     040130    20170630\n",
       "1960    00358545    동서정보기술     055000    20170630\n",
       "2702    00231567     애드모바일     032600    20170630\n",
       "3774    00359614       리더컴     056140    20170630\n",
       "...          ...       ...        ...         ...\n",
       "110678  00520887      비상교육     100220    20240401\n",
       "110679  00269889     누리플렉스     040160    20240401\n",
       "110680  00633835     HJ중공업     097230    20240401\n",
       "110681  01428203   케이씨씨글라스     344820    20240401\n",
       "110710  00408336       인산가     062580    20240628\n",
       "\n",
       "[3854 rows x 4 columns]"
      ]
     },
     "execution_count": 69,
     "metadata": {},
     "output_type": "execute_result"
    }
   ],
   "source": [
    "import xml.etree.ElementTree as ET\n",
    "\n",
    "tree = ET.parse(\"corp_code/CORPCODE.xml\")\n",
    "root = tree.getroot()\n",
    "\n",
    "corp_list = []\n",
    "for child in root:\n",
    "    corp_code = child.find(\"corp_code\").text\n",
    "    corp_name = child.find(\"corp_name\").text\n",
    "    stock_code = child.find(\"stock_code\").text\n",
    "    modify_date = child.find(\"modify_date\").text\n",
    "\n",
    "    corp_list.append({\n",
    "        \"corp_code\": corp_code,\n",
    "        \"corp_name\": corp_name,\n",
    "        \"stock_code\": stock_code,\n",
    "        \"modify_date\": modify_date\n",
    "    })\n",
    "\n",
    "import pandas as pd\n",
    "df = pd.DataFrame(corp_list)\n",
    "df = df[df[\"stock_code\"] != \" \"]  # 상장 종목만 필터링\n",
    "df"
   ]
  },
  {
   "cell_type": "code",
   "execution_count": 75,
   "id": "a6f0503e",
   "metadata": {},
   "outputs": [],
   "source": [
    "url = \"https://opendart.fss.or.kr/api/fnlttSinglIndx.json\"\n",
    "params['corp_code'] = \"00126380\"\n",
    "params['bsns_year'] = '2024'\n",
    "params['reprt_code']=  '11011'\n",
    "params['idx_cl_code'] = 'M210000'"
   ]
  },
  {
   "cell_type": "code",
   "execution_count": 67,
   "id": "bbef1f2f",
   "metadata": {},
   "outputs": [
    {
     "ename": "KeyError",
     "evalue": "'list'",
     "output_type": "error",
     "traceback": [
      "\u001b[1;31m---------------------------------------------------------------------------\u001b[0m",
      "\u001b[1;31mKeyError\u001b[0m                                  Traceback (most recent call last)",
      "Cell \u001b[1;32mIn[67], line 6\u001b[0m\n\u001b[0;32m      4\u001b[0m params[\u001b[38;5;124m'\u001b[39m\u001b[38;5;124midx_cl_code\u001b[39m\u001b[38;5;124m'\u001b[39m] \u001b[38;5;241m=\u001b[39m code\n\u001b[0;32m      5\u001b[0m response \u001b[38;5;241m=\u001b[39m requests\u001b[38;5;241m.\u001b[39mget(url, params)\n\u001b[1;32m----> 6\u001b[0m li\u001b[38;5;241m.\u001b[39mappend(\u001b[43mresponse\u001b[49m\u001b[38;5;241;43m.\u001b[39;49m\u001b[43mjson\u001b[49m\u001b[43m(\u001b[49m\u001b[43m)\u001b[49m\u001b[43m[\u001b[49m\u001b[38;5;124;43m'\u001b[39;49m\u001b[38;5;124;43mlist\u001b[39;49m\u001b[38;5;124;43m'\u001b[39;49m\u001b[43m]\u001b[49m)\n",
      "\u001b[1;31mKeyError\u001b[0m: 'list'"
     ]
    }
   ],
   "source": [
    "li = []\n",
    "codes = ['M210000', 'M220000', 'M230000', 'M240000']\n",
    "for code in codes:\n",
    "    params['idx_cl_code'] = code\n",
    "    response = requests.get(url, params)"
   ]
  },
  {
   "cell_type": "code",
   "execution_count": 76,
   "id": "74cbceb7",
   "metadata": {},
   "outputs": [],
   "source": [
    "response = requests.get(url, params)"
   ]
  },
  {
   "cell_type": "code",
   "execution_count": 61,
   "id": "26ba5f61",
   "metadata": {},
   "outputs": [],
   "source": [
    "s = []\n",
    "for l in li:\n",
    "    d = {}\n",
    "    for dat in l:\n",
    "        if 'idx_nm' in dat and 'idx_val' in dat:\n",
    "            d[dat['idx_nm']] = dat['idx_val']\n",
    "    s.append(d)\n",
    "        "
   ]
  },
  {
   "cell_type": "code",
   "execution_count": 71,
   "id": "3edfe6b3",
   "metadata": {},
   "outputs": [
    {
     "name": "stdout",
     "output_type": "stream",
     "text": [
      "dict_keys(['순이익률', '총포괄이익률', '매출총이익률', '매출원가율', 'ROE', '판관비율', '총자산영업이익률', '자기자본영업이익률', '자본금영업이익률', '납입자본이익률', '영업수익경비율'])\n",
      "dict_keys(['자기자본비율', '부채비율', '유동비율', '유동부채비율', '비유동부채비율', '비유동비율', '금융비용부담률', '재무레버리지', '비유동적합률', '비유동자산구성비율', '유형자산구성비율', '유동자산구성비율', '재고자산구성비율', '유동자산/비유동자산비율', '재고자산/유동자산비율'])\n",
      "dict_keys(['매출액증가율(YoY)', '매출총이익증가율(YoY)', '영업이익증가율(YoY)', '순이익증가율(YoY)', '총포괄이익증가율(YoY)', '총자산증가율', '비유동자산증가율', '유형자산증가율', '부채총계증가율', '자기자본증가율', '유동자산증가율', '재고자산증가율', '유동부채증가율', '비유동부채증가율'])\n",
      "dict_keys(['총자산회전율', '재고자산회전율', '매출원가/재고자산', '비유동자산회전율', '유형자산회전율', '타인자본회전율', '자기자본회전율', '자본금회전율', '배당성향(%)'])\n"
     ]
    }
   ],
   "source": [
    "for a in s:\n",
    "    print(a.keys())"
   ]
  },
  {
   "cell_type": "code",
   "execution_count": 68,
   "id": "dd45e4a3",
   "metadata": {},
   "outputs": [],
   "source": [
    "li = [('2023', '11014'), ('2023', '11011'), ('2024', '11011'), ('2024', '11012'), ('2024', '11013'), ('2024', '11014') ]"
   ]
  },
  {
   "cell_type": "code",
   "execution_count": 77,
   "id": "81fe6c08",
   "metadata": {},
   "outputs": [
    {
     "data": {
      "text/plain": [
       "{'status': '000',\n",
       " 'message': '정상',\n",
       " 'list': [{'reprt_code': '11011',\n",
       "   'bsns_year': '2024',\n",
       "   'corp_code': '00126380',\n",
       "   'stock_code': '005930',\n",
       "   'stlm_dt': '2024-12-31',\n",
       "   'idx_cl_code': 'M210000',\n",
       "   'idx_cl_nm': '수익성지표',\n",
       "   'idx_code': 'M211100',\n",
       "   'idx_nm': '세전계속사업이익률'},\n",
       "  {'reprt_code': '11011',\n",
       "   'bsns_year': '2024',\n",
       "   'corp_code': '00126380',\n",
       "   'stock_code': '005930',\n",
       "   'stlm_dt': '2024-12-31',\n",
       "   'idx_cl_code': 'M210000',\n",
       "   'idx_cl_nm': '수익성지표',\n",
       "   'idx_code': 'M211200',\n",
       "   'idx_nm': '순이익률',\n",
       "   'idx_val': '11.451'},\n",
       "  {'reprt_code': '11011',\n",
       "   'bsns_year': '2024',\n",
       "   'corp_code': '00126380',\n",
       "   'stock_code': '005930',\n",
       "   'stlm_dt': '2024-12-31',\n",
       "   'idx_cl_code': 'M210000',\n",
       "   'idx_cl_nm': '수익성지표',\n",
       "   'idx_code': 'M211250',\n",
       "   'idx_nm': '총포괄이익률',\n",
       "   'idx_val': '17.049'},\n",
       "  {'reprt_code': '11011',\n",
       "   'bsns_year': '2024',\n",
       "   'corp_code': '00126380',\n",
       "   'stock_code': '005930',\n",
       "   'stlm_dt': '2024-12-31',\n",
       "   'idx_cl_code': 'M210000',\n",
       "   'idx_cl_nm': '수익성지표',\n",
       "   'idx_code': 'M211300',\n",
       "   'idx_nm': '매출총이익률',\n",
       "   'idx_val': '37.993'},\n",
       "  {'reprt_code': '11011',\n",
       "   'bsns_year': '2024',\n",
       "   'corp_code': '00126380',\n",
       "   'stock_code': '005930',\n",
       "   'stlm_dt': '2024-12-31',\n",
       "   'idx_cl_code': 'M210000',\n",
       "   'idx_cl_nm': '수익성지표',\n",
       "   'idx_code': 'M211400',\n",
       "   'idx_nm': '매출원가율',\n",
       "   'idx_val': '62.007'},\n",
       "  {'reprt_code': '11011',\n",
       "   'bsns_year': '2024',\n",
       "   'corp_code': '00126380',\n",
       "   'stock_code': '005930',\n",
       "   'stlm_dt': '2024-12-31',\n",
       "   'idx_cl_code': 'M210000',\n",
       "   'idx_cl_nm': '수익성지표',\n",
       "   'idx_code': 'M211550',\n",
       "   'idx_nm': 'ROE',\n",
       "   'idx_val': '8.997'},\n",
       "  {'reprt_code': '11011',\n",
       "   'bsns_year': '2024',\n",
       "   'corp_code': '00126380',\n",
       "   'stock_code': '005930',\n",
       "   'stlm_dt': '2024-12-31',\n",
       "   'idx_cl_code': 'M210000',\n",
       "   'idx_cl_nm': '수익성지표',\n",
       "   'idx_code': 'M211800',\n",
       "   'idx_nm': '판관비율',\n",
       "   'idx_val': '27.116'},\n",
       "  {'reprt_code': '11011',\n",
       "   'bsns_year': '2024',\n",
       "   'corp_code': '00126380',\n",
       "   'stock_code': '005930',\n",
       "   'stlm_dt': '2024-12-31',\n",
       "   'idx_cl_code': 'M210000',\n",
       "   'idx_cl_nm': '수익성지표',\n",
       "   'idx_code': 'M212000',\n",
       "   'idx_nm': '총자산영업이익률',\n",
       "   'idx_val': '6.745'},\n",
       "  {'reprt_code': '11011',\n",
       "   'bsns_year': '2024',\n",
       "   'corp_code': '00126380',\n",
       "   'stock_code': '005930',\n",
       "   'stlm_dt': '2024-12-31',\n",
       "   'idx_cl_code': 'M210000',\n",
       "   'idx_cl_nm': '수익성지표',\n",
       "   'idx_code': 'M212100',\n",
       "   'idx_nm': '총자산세전계속사업이익률'},\n",
       "  {'reprt_code': '11011',\n",
       "   'bsns_year': '2024',\n",
       "   'corp_code': '00126380',\n",
       "   'stock_code': '005930',\n",
       "   'stlm_dt': '2024-12-31',\n",
       "   'idx_cl_code': 'M210000',\n",
       "   'idx_cl_nm': '수익성지표',\n",
       "   'idx_code': 'M212200',\n",
       "   'idx_nm': '자기자본영업이익률',\n",
       "   'idx_val': '8.546'},\n",
       "  {'reprt_code': '11011',\n",
       "   'bsns_year': '2024',\n",
       "   'corp_code': '00126380',\n",
       "   'stock_code': '005930',\n",
       "   'stlm_dt': '2024-12-31',\n",
       "   'idx_cl_code': 'M210000',\n",
       "   'idx_cl_nm': '수익성지표',\n",
       "   'idx_code': 'M212300',\n",
       "   'idx_nm': '자기자본세전계속사업이익률'},\n",
       "  {'reprt_code': '11011',\n",
       "   'bsns_year': '2024',\n",
       "   'corp_code': '00126380',\n",
       "   'stock_code': '005930',\n",
       "   'stlm_dt': '2024-12-31',\n",
       "   'idx_cl_code': 'M210000',\n",
       "   'idx_cl_nm': '수익성지표',\n",
       "   'idx_code': 'M212400',\n",
       "   'idx_nm': '자본금영업이익률',\n",
       "   'idx_val': '3646.29'},\n",
       "  {'reprt_code': '11011',\n",
       "   'bsns_year': '2024',\n",
       "   'corp_code': '00126380',\n",
       "   'stock_code': '005930',\n",
       "   'stlm_dt': '2024-12-31',\n",
       "   'idx_cl_code': 'M210000',\n",
       "   'idx_cl_nm': '수익성지표',\n",
       "   'idx_code': 'M212500',\n",
       "   'idx_nm': '자본금세전계속사업이익률'},\n",
       "  {'reprt_code': '11011',\n",
       "   'bsns_year': '2024',\n",
       "   'corp_code': '00126380',\n",
       "   'stock_code': '005930',\n",
       "   'stlm_dt': '2024-12-31',\n",
       "   'idx_cl_code': 'M210000',\n",
       "   'idx_cl_nm': '수익성지표',\n",
       "   'idx_code': 'M212600',\n",
       "   'idx_nm': '납입자본이익률',\n",
       "   'idx_val': '3838.531'},\n",
       "  {'reprt_code': '11011',\n",
       "   'bsns_year': '2024',\n",
       "   'corp_code': '00126380',\n",
       "   'stock_code': '005930',\n",
       "   'stlm_dt': '2024-12-31',\n",
       "   'idx_cl_code': 'M210000',\n",
       "   'idx_cl_nm': '수익성지표',\n",
       "   'idx_code': 'M212700',\n",
       "   'idx_nm': '영업수익경비율',\n",
       "   'idx_val': '27.116'}]}"
      ]
     },
     "execution_count": 77,
     "metadata": {},
     "output_type": "execute_result"
    }
   ],
   "source": [
    "response.json()"
   ]
  }
 ],
 "metadata": {
  "kernelspec": {
   "display_name": "Python 3",
   "language": "python",
   "name": "python3"
  },
  "language_info": {
   "codemirror_mode": {
    "name": "ipython",
    "version": 3
   },
   "file_extension": ".py",
   "mimetype": "text/x-python",
   "name": "python",
   "nbconvert_exporter": "python",
   "pygments_lexer": "ipython3",
   "version": "3.8.10"
  }
 },
 "nbformat": 4,
 "nbformat_minor": 5
}
